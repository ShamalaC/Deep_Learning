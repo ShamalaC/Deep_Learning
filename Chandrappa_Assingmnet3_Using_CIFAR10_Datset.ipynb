{
 "cells": [
  {
   "cell_type": "markdown",
   "metadata": {},
   "source": [
    "# Step 1. Create your custom dataset featuring 3 custom categories of at least 100 images each"
   ]
  },
  {
   "cell_type": "code",
   "execution_count": 12,
   "metadata": {},
   "outputs": [],
   "source": [
    "import numpy as np\n",
    "import tensorflow as tf\n",
    "from tensorflow.keras.datasets import cifar10\n",
    "\n",
    "# Load CIFAR-10 dataset\n",
    "(x_train, y_train), (x_test, y_test) = cifar10.load_data()\n",
    "\n",
    "# Define class names (from CIFAR-10)\n",
    "class_names = ['airplane', 'automobile', 'bird', 'cat', 'deer', \n",
    "               'dog', 'frog', 'horse', 'ship', 'truck']\n",
    "\n",
    "# Select the indices for the desired categories (e.g., cat, dog, bird)\n",
    "categories = [2, 3, 5]  # bird, cat, dog\n",
    "\n",
    "# Create masks to extract the desired categories\n",
    "train_mask = np.isin(y_train, categories).flatten()\n",
    "test_mask = np.isin(y_test, categories).flatten()\n",
    "\n",
    "# Filter the data to include only the selected categories\n",
    "x_train_custom, y_train_custom = x_train[train_mask], y_train[train_mask]\n",
    "x_test_custom, y_test_custom = x_test[test_mask], y_test[test_mask]\n",
    "\n",
    "# Re-map class labels to start from 0\n",
    "y_train_custom = np.array([categories.index(i) for i in y_train_custom.flatten()])\n",
    "y_test_custom = np.array([categories.index(i) for i in y_test_custom.flatten()])\n"
   ]
  },
  {
   "cell_type": "code",
   "execution_count": 14,
   "metadata": {},
   "outputs": [
    {
     "name": "stdout",
     "output_type": "stream",
     "text": [
      "Training set - bird: 5000, cat: 5000, dog: 5000\n",
      "Test set - bird: 1000, cat: 1000, dog: 1000\n"
     ]
    }
   ],
   "source": [
    "import numpy as np\n",
    "import tensorflow as tf\n",
    "from tensorflow.keras.datasets import cifar10\n",
    "\n",
    "# Load CIFAR-10 dataset\n",
    "(x_train, y_train), (x_test, y_test) = cifar10.load_data()\n",
    "\n",
    "# Select the indices for the desired categories (bird, cat, dog)\n",
    "categories = [2, 3, 5]  # bird, cat, dog\n",
    "\n",
    "# Create masks to extract the desired categories\n",
    "train_mask = np.isin(y_train, categories).flatten()\n",
    "test_mask = np.isin(y_test, categories).flatten()\n",
    "\n",
    "# Filter the data to include only the selected categories\n",
    "x_train_custom, y_train_custom = x_train[train_mask], y_train[train_mask]\n",
    "x_test_custom, y_test_custom = x_test[test_mask], y_test[test_mask]\n",
    "\n",
    "# Re-map class labels to start from 0\n",
    "y_train_custom = np.array([categories.index(i) for i in y_train_custom.flatten()])\n",
    "y_test_custom = np.array([categories.index(i) for i in y_test_custom.flatten()])\n",
    "\n",
    "# Count the number of occurrences for each category\n",
    "bird_count_train = np.sum(y_train_custom == 0)  # bird\n",
    "cat_count_train = np.sum(y_train_custom == 1)   # cat\n",
    "dog_count_train = np.sum(y_train_custom == 2)   # dog\n",
    "\n",
    "bird_count_test = np.sum(y_test_custom == 0)    # bird\n",
    "cat_count_test = np.sum(y_test_custom == 1)     # cat\n",
    "dog_count_test = np.sum(y_test_custom == 2)     # dog\n",
    "\n",
    "# Print counts\n",
    "print(f\"Training set - bird: {bird_count_train}, cat: {cat_count_train}, dog: {dog_count_train}\")\n",
    "print(f\"Test set - bird: {bird_count_test}, cat: {cat_count_test}, dog: {dog_count_test}\")\n"
   ]
  },
  {
   "cell_type": "markdown",
   "metadata": {},
   "source": [
    "Utilized CIFAR-10 dataset for custom image genration, and loaded bird, cat, dog categories. \n",
    "Filetred the data include only bird, cat, dog categories and re-mapped labels from 0."
   ]
  },
  {
   "cell_type": "markdown",
   "metadata": {},
   "source": [
    "# Step 2. Split this data between 80% training and 20% test\n",
    "\n"
   ]
  },
  {
   "cell_type": "code",
   "execution_count": 15,
   "metadata": {},
   "outputs": [],
   "source": [
    "from sklearn.model_selection import train_test_split\n",
    "\n",
    "# Split custom train data into 80% training and 20% validation set\n",
    "x_train_final, x_val_final, y_train_final, y_val_final = train_test_split(\n",
    "    x_train_custom, y_train_custom, test_size=0.2, random_state=42)\n"
   ]
  },
  {
   "cell_type": "markdown",
   "metadata": {},
   "source": [
    "# Step 3. Preprocess the data as you see fit\n",
    "\n"
   ]
  },
  {
   "cell_type": "code",
   "execution_count": 16,
   "metadata": {},
   "outputs": [],
   "source": [
    "# Normalize the images to the range [0, 1]\n",
    "x_train_final = x_train_final.astype('float32') / 255.0\n",
    "x_val_final = x_val_final.astype('float32') / 255.0\n",
    "x_test_custom = x_test_custom.astype('float32') / 255.0\n"
   ]
  },
  {
   "cell_type": "code",
   "execution_count": 17,
   "metadata": {},
   "outputs": [],
   "source": [
    "import tensorflow as tf\n",
    "\n",
    "# Resize the training, validation, and test sets\n",
    "x_train_resized = tf.image.resize(x_train_final, (75, 75))\n",
    "x_val_resized = tf.image.resize(x_val_final, (75, 75))\n",
    "x_test_resized = tf.image.resize(x_test_custom, (75, 75))"
   ]
  },
  {
   "cell_type": "markdown",
   "metadata": {},
   "source": [
    "# Step 4. Create a Convolutional Neural Network model to learn about your training set "
   ]
  },
  {
   "cell_type": "code",
   "execution_count": 18,
   "metadata": {},
   "outputs": [
    {
     "name": "stdout",
     "output_type": "stream",
     "text": [
      "Epoch 1/10\n"
     ]
    },
    {
     "name": "stderr",
     "output_type": "stream",
     "text": [
      "/opt/anaconda3/lib/python3.11/site-packages/keras/src/layers/convolutional/base_conv.py:107: UserWarning: Do not pass an `input_shape`/`input_dim` argument to a layer. When using Sequential models, prefer using an `Input(shape)` object as the first layer in the model instead.\n",
      "  super().__init__(activity_regularizer=activity_regularizer, **kwargs)\n"
     ]
    },
    {
     "name": "stdout",
     "output_type": "stream",
     "text": [
      "\u001b[1m375/375\u001b[0m \u001b[32m━━━━━━━━━━━━━━━━━━━━\u001b[0m\u001b[37m\u001b[0m \u001b[1m3s\u001b[0m 8ms/step - accuracy: 0.4718 - loss: 1.0149 - val_accuracy: 0.6167 - val_loss: 0.8443\n",
      "Epoch 2/10\n",
      "\u001b[1m375/375\u001b[0m \u001b[32m━━━━━━━━━━━━━━━━━━━━\u001b[0m\u001b[37m\u001b[0m \u001b[1m3s\u001b[0m 7ms/step - accuracy: 0.6277 - loss: 0.8323 - val_accuracy: 0.6430 - val_loss: 0.8001\n",
      "Epoch 3/10\n",
      "\u001b[1m375/375\u001b[0m \u001b[32m━━━━━━━━━━━━━━━━━━━━\u001b[0m\u001b[37m\u001b[0m \u001b[1m3s\u001b[0m 8ms/step - accuracy: 0.6606 - loss: 0.7574 - val_accuracy: 0.6637 - val_loss: 0.7685\n",
      "Epoch 4/10\n",
      "\u001b[1m375/375\u001b[0m \u001b[32m━━━━━━━━━━━━━━━━━━━━\u001b[0m\u001b[37m\u001b[0m \u001b[1m3s\u001b[0m 8ms/step - accuracy: 0.7065 - loss: 0.6807 - val_accuracy: 0.6920 - val_loss: 0.7130\n",
      "Epoch 5/10\n",
      "\u001b[1m375/375\u001b[0m \u001b[32m━━━━━━━━━━━━━━━━━━━━\u001b[0m\u001b[37m\u001b[0m \u001b[1m3s\u001b[0m 8ms/step - accuracy: 0.7402 - loss: 0.6175 - val_accuracy: 0.6813 - val_loss: 0.7301\n",
      "Epoch 6/10\n",
      "\u001b[1m375/375\u001b[0m \u001b[32m━━━━━━━━━━━━━━━━━━━━\u001b[0m\u001b[37m\u001b[0m \u001b[1m3s\u001b[0m 8ms/step - accuracy: 0.7660 - loss: 0.5607 - val_accuracy: 0.6850 - val_loss: 0.7390\n",
      "Epoch 7/10\n",
      "\u001b[1m375/375\u001b[0m \u001b[32m━━━━━━━━━━━━━━━━━━━━\u001b[0m\u001b[37m\u001b[0m \u001b[1m3s\u001b[0m 8ms/step - accuracy: 0.8063 - loss: 0.4719 - val_accuracy: 0.7020 - val_loss: 0.7218\n",
      "Epoch 8/10\n",
      "\u001b[1m375/375\u001b[0m \u001b[32m━━━━━━━━━━━━━━━━━━━━\u001b[0m\u001b[37m\u001b[0m \u001b[1m3s\u001b[0m 8ms/step - accuracy: 0.8400 - loss: 0.4008 - val_accuracy: 0.7043 - val_loss: 0.7077\n",
      "Epoch 9/10\n",
      "\u001b[1m375/375\u001b[0m \u001b[32m━━━━━━━━━━━━━━━━━━━━\u001b[0m\u001b[37m\u001b[0m \u001b[1m3s\u001b[0m 8ms/step - accuracy: 0.8749 - loss: 0.3224 - val_accuracy: 0.7043 - val_loss: 0.7572\n",
      "Epoch 10/10\n",
      "\u001b[1m375/375\u001b[0m \u001b[32m━━━━━━━━━━━━━━━━━━━━\u001b[0m\u001b[37m\u001b[0m \u001b[1m3s\u001b[0m 8ms/step - accuracy: 0.9109 - loss: 0.2608 - val_accuracy: 0.7027 - val_loss: 0.8711\n"
     ]
    },
    {
     "data": {
      "text/plain": [
       "<keras.src.callbacks.history.History at 0x2a77ff390>"
      ]
     },
     "execution_count": 18,
     "metadata": {},
     "output_type": "execute_result"
    }
   ],
   "source": [
    "from tensorflow.keras.models import Sequential\n",
    "from tensorflow.keras.layers import Conv2D, MaxPooling2D, Flatten, Dense\n",
    "\n",
    "# Create a CNN model\n",
    "cnn_model = Sequential([\n",
    "    Conv2D(32, (3, 3), activation='relu', input_shape=(32, 32, 3)),\n",
    "    MaxPooling2D(pool_size=(2, 2)),\n",
    "    \n",
    "    Conv2D(64, (3, 3), activation='relu'),\n",
    "    MaxPooling2D(pool_size=(2, 2)),\n",
    "    \n",
    "    Flatten(),\n",
    "    Dense(128, activation='relu'),\n",
    "    Dense(3, activation='softmax')  # 3 categories in the custom dataset\n",
    "])\n",
    "\n",
    "cnn_model.compile(optimizer='adam', loss='sparse_categorical_crossentropy', metrics=['accuracy'])\n",
    "\n",
    "# Train the CNN model\n",
    "cnn_model.fit(x_train_final, y_train_final, epochs=10, validation_data=(x_val_final, y_val_final))\n"
   ]
  },
  {
   "cell_type": "code",
   "execution_count": 23,
   "metadata": {},
   "outputs": [
    {
     "name": "stdout",
     "output_type": "stream",
     "text": [
      "Epoch 1/20\n"
     ]
    },
    {
     "name": "stderr",
     "output_type": "stream",
     "text": [
      "/opt/anaconda3/lib/python3.11/site-packages/keras/src/layers/convolutional/base_conv.py:107: UserWarning: Do not pass an `input_shape`/`input_dim` argument to a layer. When using Sequential models, prefer using an `Input(shape)` object as the first layer in the model instead.\n",
      "  super().__init__(activity_regularizer=activity_regularizer, **kwargs)\n"
     ]
    },
    {
     "name": "stdout",
     "output_type": "stream",
     "text": [
      "\u001b[1m375/375\u001b[0m \u001b[32m━━━━━━━━━━━━━━━━━━━━\u001b[0m\u001b[37m\u001b[0m \u001b[1m3s\u001b[0m 8ms/step - accuracy: 0.4837 - loss: 1.0097 - val_accuracy: 0.6120 - val_loss: 0.8465\n",
      "Epoch 2/20\n",
      "\u001b[1m375/375\u001b[0m \u001b[32m━━━━━━━━━━━━━━━━━━━━\u001b[0m\u001b[37m\u001b[0m \u001b[1m3s\u001b[0m 7ms/step - accuracy: 0.6190 - loss: 0.8375 - val_accuracy: 0.6397 - val_loss: 0.8168\n",
      "Epoch 3/20\n",
      "\u001b[1m375/375\u001b[0m \u001b[32m━━━━━━━━━━━━━━━━━━━━\u001b[0m\u001b[37m\u001b[0m \u001b[1m3s\u001b[0m 7ms/step - accuracy: 0.6527 - loss: 0.7767 - val_accuracy: 0.6467 - val_loss: 0.8238\n",
      "Epoch 4/20\n",
      "\u001b[1m375/375\u001b[0m \u001b[32m━━━━━━━━━━━━━━━━━━━━\u001b[0m\u001b[37m\u001b[0m \u001b[1m3s\u001b[0m 7ms/step - accuracy: 0.7004 - loss: 0.6982 - val_accuracy: 0.6773 - val_loss: 0.7382\n",
      "Epoch 5/20\n",
      "\u001b[1m375/375\u001b[0m \u001b[32m━━━━━━━━━━━━━━━━━━━━\u001b[0m\u001b[37m\u001b[0m \u001b[1m3s\u001b[0m 7ms/step - accuracy: 0.7274 - loss: 0.6358 - val_accuracy: 0.6760 - val_loss: 0.7543\n",
      "Epoch 6/20\n",
      "\u001b[1m375/375\u001b[0m \u001b[32m━━━━━━━━━━━━━━━━━━━━\u001b[0m\u001b[37m\u001b[0m \u001b[1m3s\u001b[0m 7ms/step - accuracy: 0.7434 - loss: 0.5966 - val_accuracy: 0.6850 - val_loss: 0.7196\n",
      "Epoch 7/20\n",
      "\u001b[1m375/375\u001b[0m \u001b[32m━━━━━━━━━━━━━━━━━━━━\u001b[0m\u001b[37m\u001b[0m \u001b[1m3s\u001b[0m 8ms/step - accuracy: 0.7815 - loss: 0.5212 - val_accuracy: 0.6800 - val_loss: 0.7492\n",
      "Epoch 8/20\n",
      "\u001b[1m375/375\u001b[0m \u001b[32m━━━━━━━━━━━━━━━━━━━━\u001b[0m\u001b[37m\u001b[0m \u001b[1m3s\u001b[0m 9ms/step - accuracy: 0.8118 - loss: 0.4587 - val_accuracy: 0.7047 - val_loss: 0.7105\n",
      "Epoch 9/20\n",
      "\u001b[1m375/375\u001b[0m \u001b[32m━━━━━━━━━━━━━━━━━━━━\u001b[0m\u001b[37m\u001b[0m \u001b[1m3s\u001b[0m 8ms/step - accuracy: 0.8398 - loss: 0.4034 - val_accuracy: 0.7077 - val_loss: 0.7366\n",
      "Epoch 10/20\n",
      "\u001b[1m375/375\u001b[0m \u001b[32m━━━━━━━━━━━━━━━━━━━━\u001b[0m\u001b[37m\u001b[0m \u001b[1m5s\u001b[0m 12ms/step - accuracy: 0.8773 - loss: 0.3250 - val_accuracy: 0.6987 - val_loss: 0.7679\n",
      "Epoch 11/20\n",
      "\u001b[1m375/375\u001b[0m \u001b[32m━━━━━━━━━━━━━━━━━━━━\u001b[0m\u001b[37m\u001b[0m \u001b[1m4s\u001b[0m 10ms/step - accuracy: 0.9013 - loss: 0.2628 - val_accuracy: 0.6983 - val_loss: 0.8440\n",
      "Epoch 12/20\n",
      "\u001b[1m375/375\u001b[0m \u001b[32m━━━━━━━━━━━━━━━━━━━━\u001b[0m\u001b[37m\u001b[0m \u001b[1m4s\u001b[0m 10ms/step - accuracy: 0.9329 - loss: 0.1985 - val_accuracy: 0.7107 - val_loss: 0.9196\n",
      "Epoch 13/20\n",
      "\u001b[1m375/375\u001b[0m \u001b[32m━━━━━━━━━━━━━━━━━━━━\u001b[0m\u001b[37m\u001b[0m \u001b[1m4s\u001b[0m 10ms/step - accuracy: 0.9482 - loss: 0.1525 - val_accuracy: 0.7097 - val_loss: 0.9912\n",
      "Epoch 14/20\n",
      "\u001b[1m375/375\u001b[0m \u001b[32m━━━━━━━━━━━━━━━━━━━━\u001b[0m\u001b[37m\u001b[0m \u001b[1m4s\u001b[0m 9ms/step - accuracy: 0.9666 - loss: 0.1101 - val_accuracy: 0.7087 - val_loss: 1.0928\n",
      "Epoch 15/20\n",
      "\u001b[1m375/375\u001b[0m \u001b[32m━━━━━━━━━━━━━━━━━━━━\u001b[0m\u001b[37m\u001b[0m \u001b[1m4s\u001b[0m 11ms/step - accuracy: 0.9802 - loss: 0.0742 - val_accuracy: 0.7120 - val_loss: 1.2012\n",
      "Epoch 16/20\n",
      "\u001b[1m375/375\u001b[0m \u001b[32m━━━━━━━━━━━━━━━━━━━━\u001b[0m\u001b[37m\u001b[0m \u001b[1m4s\u001b[0m 11ms/step - accuracy: 0.9850 - loss: 0.0521 - val_accuracy: 0.6990 - val_loss: 1.3021\n",
      "Epoch 17/20\n",
      "\u001b[1m375/375\u001b[0m \u001b[32m━━━━━━━━━━━━━━━━━━━━\u001b[0m\u001b[37m\u001b[0m \u001b[1m4s\u001b[0m 11ms/step - accuracy: 0.9834 - loss: 0.0595 - val_accuracy: 0.6997 - val_loss: 1.3629\n",
      "Epoch 18/20\n",
      "\u001b[1m375/375\u001b[0m \u001b[32m━━━━━━━━━━━━━━━━━━━━\u001b[0m\u001b[37m\u001b[0m \u001b[1m4s\u001b[0m 11ms/step - accuracy: 0.9844 - loss: 0.0541 - val_accuracy: 0.6990 - val_loss: 1.4155\n",
      "Epoch 19/20\n",
      "\u001b[1m375/375\u001b[0m \u001b[32m━━━━━━━━━━━━━━━━━━━━\u001b[0m\u001b[37m\u001b[0m \u001b[1m4s\u001b[0m 10ms/step - accuracy: 0.9896 - loss: 0.0363 - val_accuracy: 0.7013 - val_loss: 1.5187\n",
      "Epoch 20/20\n",
      "\u001b[1m375/375\u001b[0m \u001b[32m━━━━━━━━━━━━━━━━━━━━\u001b[0m\u001b[37m\u001b[0m \u001b[1m4s\u001b[0m 10ms/step - accuracy: 0.9914 - loss: 0.0344 - val_accuracy: 0.7007 - val_loss: 1.6203\n"
     ]
    },
    {
     "data": {
      "text/plain": [
       "<keras.src.callbacks.history.History at 0x2ea441250>"
      ]
     },
     "execution_count": 23,
     "metadata": {},
     "output_type": "execute_result"
    }
   ],
   "source": [
    "from tensorflow.keras.models import Sequential\n",
    "from tensorflow.keras.layers import Conv2D, MaxPooling2D, Flatten, Dense\n",
    "\n",
    "# Create a CNN model\n",
    "cnn_model = Sequential([\n",
    "    Conv2D(32, (3, 3), activation='relu', input_shape=(32, 32, 3)),\n",
    "    MaxPooling2D(pool_size=(2, 2)),\n",
    "    \n",
    "    Conv2D(64, (3, 3), activation='relu'),\n",
    "    MaxPooling2D(pool_size=(2, 2)),\n",
    "    \n",
    "    Flatten(),\n",
    "    Dense(128, activation='relu'),\n",
    "    Dense(3, activation='softmax')  # 3 categories in the custom dataset\n",
    "])\n",
    "\n",
    "cnn_model.compile(optimizer='adam', loss='sparse_categorical_crossentropy', metrics=['accuracy'])\n",
    "\n",
    "# Train the CNN model\n",
    "cnn_model.fit(x_train_final, y_train_final, epochs=20, validation_data=(x_val_final, y_val_final))\n"
   ]
  },
  {
   "cell_type": "markdown",
   "metadata": {},
   "source": [
    "# Step 5. Make predictions on the test data and compare them to the expected categories"
   ]
  },
  {
   "cell_type": "code",
   "execution_count": 19,
   "metadata": {},
   "outputs": [
    {
     "name": "stdout",
     "output_type": "stream",
     "text": [
      "\u001b[1m94/94\u001b[0m \u001b[32m━━━━━━━━━━━━━━━━━━━━\u001b[0m\u001b[37m\u001b[0m \u001b[1m0s\u001b[0m 3ms/step - accuracy: 0.7029 - loss: 0.8381\n",
      "Test Accuracy: 0.7039999961853027\n",
      "\u001b[1m94/94\u001b[0m \u001b[32m━━━━━━━━━━━━━━━━━━━━\u001b[0m\u001b[37m\u001b[0m \u001b[1m0s\u001b[0m 3ms/step\n"
     ]
    }
   ],
   "source": [
    "# Evaluate the model on the test set\n",
    "test_loss, test_acc = cnn_model.evaluate(x_test_custom, y_test_custom)\n",
    "print(f\"Test Accuracy: {test_acc}\")\n",
    "\n",
    "# Make predictions on the test set\n",
    "predictions = cnn_model.predict(x_test_custom)\n",
    "predicted_classes = np.argmax(predictions, axis=1)\n"
   ]
  },
  {
   "cell_type": "code",
   "execution_count": 20,
   "metadata": {},
   "outputs": [
    {
     "data": {
      "image/png": "[encoded data removed]",
      "text/plain": [
       "<Figure size 1200x1200 with 10 Axes>"
      ]
     },
     "metadata": {},
     "output_type": "display_data"
    }
   ],
   "source": [
    "import matplotlib.pyplot as plt\n",
    "\n",
    "# Display the first 10 images and their corresponding labels from the custom training set\n",
    "images, labels = [], []\n",
    "for i in range(10):\n",
    "    images.append(x_train_custom[i])\n",
    "    labels.append(y_train_custom[i])\n",
    "\n",
    "# My custom dataset consists of these classes\n",
    "class_names_custom = ['bird', 'cat', 'dog']\n",
    "\n",
    "# Plotting the first 10 images\n",
    "plt.figure(figsize=(12, 12))\n",
    "for i in range(10):\n",
    "    plt.subplot(5, 5, i + 1)\n",
    "    plt.imshow(images[i])\n",
    "    plt.title(class_names_custom[labels[i]])  # Custom class names\n",
    "    plt.axis('off')\n",
    "\n",
    "plt.show()"
   ]
  },
  {
   "cell_type": "markdown",
   "metadata": {},
   "source": [
    "# Step 6: Use GoogleNet(InceptionNet) and add a LinearLayer on top of it."
   ]
  },
  {
   "cell_type": "code",
   "execution_count": 22,
   "metadata": {},
   "outputs": [
    {
     "name": "stdout",
     "output_type": "stream",
     "text": [
      "Epoch 1/10\n",
      "\u001b[1m375/375\u001b[0m \u001b[32m━━━━━━━━━━━━━━━━━━━━\u001b[0m\u001b[37m\u001b[0m \u001b[1m29s\u001b[0m 71ms/step - accuracy: 0.5631 - loss: 0.9559 - val_accuracy: 0.6647 - val_loss: 0.7793\n",
      "Epoch 2/10\n",
      "\u001b[1m375/375\u001b[0m \u001b[32m━━━━━━━━━━━━━━━━━━━━\u001b[0m\u001b[37m\u001b[0m \u001b[1m26s\u001b[0m 71ms/step - accuracy: 0.6990 - loss: 0.7005 - val_accuracy: 0.6807 - val_loss: 0.7503\n",
      "Epoch 3/10\n",
      "\u001b[1m375/375\u001b[0m \u001b[32m━━━━━━━━━━━━━━━━━━━━\u001b[0m\u001b[37m\u001b[0m \u001b[1m26s\u001b[0m 70ms/step - accuracy: 0.7156 - loss: 0.6614 - val_accuracy: 0.6757 - val_loss: 0.7709\n",
      "Epoch 4/10\n",
      "\u001b[1m375/375\u001b[0m \u001b[32m━━━━━━━━━━━━━━━━━━━━\u001b[0m\u001b[37m\u001b[0m \u001b[1m27s\u001b[0m 73ms/step - accuracy: 0.7260 - loss: 0.6335 - val_accuracy: 0.6700 - val_loss: 0.7548\n",
      "Epoch 5/10\n",
      "\u001b[1m375/375\u001b[0m \u001b[32m━━━━━━━━━━━━━━━━━━━━\u001b[0m\u001b[37m\u001b[0m \u001b[1m28s\u001b[0m 75ms/step - accuracy: 0.7258 - loss: 0.6348 - val_accuracy: 0.6783 - val_loss: 0.7780\n",
      "Epoch 6/10\n",
      "\u001b[1m375/375\u001b[0m \u001b[32m━━━━━━━━━━━━━━━━━━━━\u001b[0m\u001b[37m\u001b[0m \u001b[1m28s\u001b[0m 75ms/step - accuracy: 0.7354 - loss: 0.6167 - val_accuracy: 0.6730 - val_loss: 0.7831\n",
      "Epoch 7/10\n",
      "\u001b[1m375/375\u001b[0m \u001b[32m━━━━━━━━━━━━━━━━━━━━\u001b[0m\u001b[37m\u001b[0m \u001b[1m29s\u001b[0m 77ms/step - accuracy: 0.7391 - loss: 0.6024 - val_accuracy: 0.6663 - val_loss: 0.7679\n",
      "Epoch 8/10\n",
      "\u001b[1m375/375\u001b[0m \u001b[32m━━━━━━━━━━━━━━━━━━━━\u001b[0m\u001b[37m\u001b[0m \u001b[1m33s\u001b[0m 87ms/step - accuracy: 0.7363 - loss: 0.6073 - val_accuracy: 0.6500 - val_loss: 0.8079\n",
      "Epoch 9/10\n",
      "\u001b[1m375/375\u001b[0m \u001b[32m━━━━━━━━━━━━━━━━━━━━\u001b[0m\u001b[37m\u001b[0m \u001b[1m35s\u001b[0m 93ms/step - accuracy: 0.7445 - loss: 0.5973 - val_accuracy: 0.6643 - val_loss: 0.7806\n",
      "Epoch 10/10\n",
      "\u001b[1m375/375\u001b[0m \u001b[32m━━━━━━━━━━━━━━━━━━━━\u001b[0m\u001b[37m\u001b[0m \u001b[1m35s\u001b[0m 95ms/step - accuracy: 0.7559 - loss: 0.5745 - val_accuracy: 0.6533 - val_loss: 0.8345\n"
     ]
    },
    {
     "data": {
      "text/plain": [
       "<keras.src.callbacks.history.History at 0x2bfb1b790>"
      ]
     },
     "execution_count": 22,
     "metadata": {},
     "output_type": "execute_result"
    }
   ],
   "source": [
    "from tensorflow.keras.applications import InceptionV3\n",
    "from tensorflow.keras.layers import GlobalAveragePooling2D, Dense\n",
    "from tensorflow.keras.models import Model\n",
    "\n",
    "# Load InceptionV3 with pre-trained weights, excluding the top layers\n",
    "base_model = InceptionV3(weights='imagenet', include_top=False, input_shape=(75, 75, 3))\n",
    "\n",
    "# Add a GlobalAveragePooling layer and a Dense layer on top\n",
    "x = base_model.output\n",
    "x = GlobalAveragePooling2D()(x)\n",
    "predictions = Dense(3, activation='softmax')(x)  # 3 categories\n",
    "\n",
    "# Create the full model\n",
    "google_net_model = Model(inputs=base_model.input, outputs=predictions)\n",
    "\n",
    "# Freeze the base model layers\n",
    "for layer in base_model.layers:\n",
    "    layer.trainable = False\n",
    "\n",
    "# Compile the model\n",
    "google_net_model.compile(optimizer='adam', loss='sparse_categorical_crossentropy', metrics=['accuracy'])\n",
    "\n",
    "# Train the GoogleNet model with resized images\n",
    "google_net_model.fit(x_train_resized, y_train_final, epochs=10, validation_data=(x_val_resized, y_val_final))\n"
   ]
  },
  {
   "cell_type": "code",
   "execution_count": 24,
   "metadata": {},
   "outputs": [
    {
     "name": "stdout",
     "output_type": "stream",
     "text": [
      "Epoch 1/20\n",
      "\u001b[1m375/375\u001b[0m \u001b[32m━━━━━━━━━━━━━━━━━━━━\u001b[0m\u001b[37m\u001b[0m \u001b[1m28s\u001b[0m 69ms/step - accuracy: 0.5547 - loss: 0.9446 - val_accuracy: 0.6573 - val_loss: 0.7919\n",
      "Epoch 2/20\n",
      "\u001b[1m375/375\u001b[0m \u001b[32m━━━━━━━━━━━━━━━━━━━━\u001b[0m\u001b[37m\u001b[0m \u001b[1m26s\u001b[0m 70ms/step - accuracy: 0.7036 - loss: 0.6928 - val_accuracy: 0.6620 - val_loss: 0.7642\n",
      "Epoch 3/20\n",
      "\u001b[1m375/375\u001b[0m \u001b[32m━━━━━━━━━━━━━━━━━━━━\u001b[0m\u001b[37m\u001b[0m \u001b[1m26s\u001b[0m 69ms/step - accuracy: 0.7160 - loss: 0.6617 - val_accuracy: 0.6597 - val_loss: 0.7586\n",
      "Epoch 4/20\n",
      "\u001b[1m375/375\u001b[0m \u001b[32m━━━━━━━━━━━━━━━━━━━━\u001b[0m\u001b[37m\u001b[0m \u001b[1m44s\u001b[0m 117ms/step - accuracy: 0.7234 - loss: 0.6464 - val_accuracy: 0.6690 - val_loss: 0.7611\n",
      "Epoch 5/20\n",
      "\u001b[1m375/375\u001b[0m \u001b[32m━━━━━━━━━━━━━━━━━━━━\u001b[0m\u001b[37m\u001b[0m \u001b[1m43s\u001b[0m 114ms/step - accuracy: 0.7295 - loss: 0.6274 - val_accuracy: 0.6653 - val_loss: 0.7708\n",
      "Epoch 6/20\n",
      "\u001b[1m375/375\u001b[0m \u001b[32m━━━━━━━━━━━━━━━━━━━━\u001b[0m\u001b[37m\u001b[0m \u001b[1m39s\u001b[0m 104ms/step - accuracy: 0.7393 - loss: 0.6115 - val_accuracy: 0.6783 - val_loss: 0.7690\n",
      "Epoch 7/20\n",
      "\u001b[1m375/375\u001b[0m \u001b[32m━━━━━━━━━━━━━━━━━━━━\u001b[0m\u001b[37m\u001b[0m \u001b[1m37s\u001b[0m 99ms/step - accuracy: 0.7395 - loss: 0.6044 - val_accuracy: 0.6683 - val_loss: 0.7747\n",
      "Epoch 8/20\n",
      "\u001b[1m375/375\u001b[0m \u001b[32m━━━━━━━━━━━━━━━━━━━━\u001b[0m\u001b[37m\u001b[0m \u001b[1m37s\u001b[0m 100ms/step - accuracy: 0.7470 - loss: 0.5885 - val_accuracy: 0.6703 - val_loss: 0.7784\n",
      "Epoch 9/20\n",
      "\u001b[1m375/375\u001b[0m \u001b[32m━━━━━━━━━━━━━━━━━━━━\u001b[0m\u001b[37m\u001b[0m \u001b[1m36s\u001b[0m 96ms/step - accuracy: 0.7481 - loss: 0.5956 - val_accuracy: 0.6633 - val_loss: 0.8075\n",
      "Epoch 10/20\n",
      "\u001b[1m375/375\u001b[0m \u001b[32m━━━━━━━━━━━━━━━━━━━━\u001b[0m\u001b[37m\u001b[0m \u001b[1m37s\u001b[0m 98ms/step - accuracy: 0.7542 - loss: 0.5872 - val_accuracy: 0.6593 - val_loss: 0.8008\n",
      "Epoch 11/20\n",
      "\u001b[1m375/375\u001b[0m \u001b[32m━━━━━━━━━━━━━━━━━━━━\u001b[0m\u001b[37m\u001b[0m \u001b[1m35s\u001b[0m 93ms/step - accuracy: 0.7492 - loss: 0.5751 - val_accuracy: 0.6683 - val_loss: 0.7797\n",
      "Epoch 12/20\n",
      "\u001b[1m375/375\u001b[0m \u001b[32m━━━━━━━━━━━━━━━━━━━━\u001b[0m\u001b[37m\u001b[0m \u001b[1m37s\u001b[0m 100ms/step - accuracy: 0.7535 - loss: 0.5775 - val_accuracy: 0.6650 - val_loss: 0.8033\n",
      "Epoch 13/20\n",
      "\u001b[1m375/375\u001b[0m \u001b[32m━━━━━━━━━━━━━━━━━━━━\u001b[0m\u001b[37m\u001b[0m \u001b[1m37s\u001b[0m 98ms/step - accuracy: 0.7570 - loss: 0.5680 - val_accuracy: 0.6597 - val_loss: 0.8200\n",
      "Epoch 14/20\n",
      "\u001b[1m375/375\u001b[0m \u001b[32m━━━━━━━━━━━━━━━━━━━━\u001b[0m\u001b[37m\u001b[0m \u001b[1m36s\u001b[0m 97ms/step - accuracy: 0.7559 - loss: 0.5691 - val_accuracy: 0.6637 - val_loss: 0.8132\n",
      "Epoch 15/20\n",
      "\u001b[1m375/375\u001b[0m \u001b[32m━━━━━━━━━━━━━━━━━━━━\u001b[0m\u001b[37m\u001b[0m \u001b[1m36s\u001b[0m 96ms/step - accuracy: 0.7565 - loss: 0.5644 - val_accuracy: 0.6493 - val_loss: 0.8269\n",
      "Epoch 16/20\n",
      "\u001b[1m375/375\u001b[0m \u001b[32m━━━━━━━━━━━━━━━━━━━━\u001b[0m\u001b[37m\u001b[0m \u001b[1m38s\u001b[0m 102ms/step - accuracy: 0.7601 - loss: 0.5573 - val_accuracy: 0.6690 - val_loss: 0.8160\n",
      "Epoch 17/20\n",
      "\u001b[1m375/375\u001b[0m \u001b[32m━━━━━━━━━━━━━━━━━━━━\u001b[0m\u001b[37m\u001b[0m \u001b[1m39s\u001b[0m 104ms/step - accuracy: 0.7575 - loss: 0.5666 - val_accuracy: 0.6560 - val_loss: 0.8356\n",
      "Epoch 18/20\n",
      "\u001b[1m375/375\u001b[0m \u001b[32m━━━━━━━━━━━━━━━━━━━━\u001b[0m\u001b[37m\u001b[0m \u001b[1m37s\u001b[0m 100ms/step - accuracy: 0.7652 - loss: 0.5449 - val_accuracy: 0.6653 - val_loss: 0.8187\n",
      "Epoch 19/20\n",
      "\u001b[1m375/375\u001b[0m \u001b[32m━━━━━━━━━━━━━━━━━━━━\u001b[0m\u001b[37m\u001b[0m \u001b[1m35s\u001b[0m 92ms/step - accuracy: 0.7658 - loss: 0.5489 - val_accuracy: 0.6637 - val_loss: 0.8249\n",
      "Epoch 20/20\n",
      "\u001b[1m375/375\u001b[0m \u001b[32m━━━━━━━━━━━━━━━━━━━━\u001b[0m\u001b[37m\u001b[0m \u001b[1m37s\u001b[0m 99ms/step - accuracy: 0.7654 - loss: 0.5388 - val_accuracy: 0.6650 - val_loss: 0.8341\n"
     ]
    },
    {
     "data": {
      "text/plain": [
       "<keras.src.callbacks.history.History at 0x2a7b19250>"
      ]
     },
     "execution_count": 24,
     "metadata": {},
     "output_type": "execute_result"
    }
   ],
   "source": [
    "from tensorflow.keras.applications import InceptionV3\n",
    "from tensorflow.keras.layers import GlobalAveragePooling2D, Dense\n",
    "from tensorflow.keras.models import Model\n",
    "\n",
    "# Load InceptionV3 with pre-trained weights, excluding the top layers\n",
    "base_model = InceptionV3(weights='imagenet', include_top=False, input_shape=(75, 75, 3))\n",
    "\n",
    "# Add a GlobalAveragePooling layer and a Dense layer on top\n",
    "x = base_model.output\n",
    "x = GlobalAveragePooling2D()(x)\n",
    "predictions = Dense(3, activation='softmax')(x)  # 3 categories\n",
    "\n",
    "# Create the full model\n",
    "google_net_model = Model(inputs=base_model.input, outputs=predictions)\n",
    "\n",
    "# Freeze the base model layers\n",
    "for layer in base_model.layers:\n",
    "    layer.trainable = False\n",
    "\n",
    "# Compile the model\n",
    "google_net_model.compile(optimizer='adam', loss='sparse_categorical_crossentropy', metrics=['accuracy'])\n",
    "\n",
    "# Train the GoogleNet model with resized images\n",
    "google_net_model.fit(x_train_resized, y_train_final, epochs=20, validation_data=(x_val_resized, y_val_final))\n"
   ]
  },
  {
   "cell_type": "markdown",
   "metadata": {},
   "source": [
    "Step 7: Train the GoogleNet model and compare the accuracy with the first model.\n",
    "\n"
   ]
  },
  {
   "cell_type": "code",
   "execution_count": 25,
   "metadata": {},
   "outputs": [
    {
     "name": "stdout",
     "output_type": "stream",
     "text": [
      "\u001b[1m94/94\u001b[0m \u001b[32m━━━━━━━━━━━━━━━━━━━━\u001b[0m\u001b[37m\u001b[0m \u001b[1m5s\u001b[0m 53ms/step - accuracy: 0.6669 - loss: 0.8474\n",
      "GoogleNet Test Accuracy: 0.6776666641235352\n"
     ]
    }
   ],
   "source": [
    "# Evaluate the model on the resized test set\n",
    "test_loss_gnet, test_acc_gnet = google_net_model.evaluate(x_test_resized, y_test_custom)\n",
    "print(f\"GoogleNet Test Accuracy: {test_acc_gnet}\")\n"
   ]
  },
  {
   "cell_type": "markdown",
   "metadata": {},
   "source": [
    "With Google Net  the accuracy is lower than the Simple CNN for CIFAR 10 Dataset"
   ]
  }
 ],
 "metadata": {
  "kernelspec": {
   "display_name": "base",
   "language": "python",
   "name": "python3"
  },
  "language_info": {
   "codemirror_mode": {
    "name": "ipython",
    "version": 3
   },
   "file_extension": ".py",
   "mimetype": "text/x-python",
   "name": "python",
   "nbconvert_exporter": "python",
   "pygments_lexer": "ipython3",
   "version": "3.11.8"
  }
 },
 "nbformat": 4,
 "nbformat_minor": 2
}
